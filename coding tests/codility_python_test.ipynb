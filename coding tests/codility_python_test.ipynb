{
 "cells": [
  {
   "cell_type": "markdown",
   "source": [
    "This is a demo task.\n",
    "\n",
    "Write a function:\n",
    "\n",
    "    def solution(A)\n",
    "\n",
    "that, given an array A of N integers, returns the smallest positive integer (greater than 0) that does not occur in A.\n",
    "\n",
    "For example, given A = [1, 3, 6, 4, 1, 2], the function should return 5.\n",
    "\n",
    "Given A = [1, 2, 3], the function should return 4.\n",
    "\n",
    "Given A = [−1, −3], the function should return 1.\n",
    "\n",
    "Write an efficient algorithm for the following assumptions:\n",
    "\n",
    "        N is an integer within the range [1..100,000];\n",
    "        each element of array A is an integer within the range [−1,000,000..1,000,000].\n"
   ],
   "metadata": {
    "collapsed": false,
    "pycharm": {
     "name": "#%% md\n"
    }
   }
  },
  {
   "cell_type": "code",
   "execution_count": 48,
   "outputs": [],
   "source": [],
   "metadata": {
    "collapsed": false,
    "pycharm": {
     "name": "#%%\n"
    }
   }
  },
  {
   "cell_type": "code",
   "execution_count": 49,
   "outputs": [],
   "source": [
    "def solution_sa(A):\n",
    " m = max(A)\n",
    " if m < 1:\n",
    "\treturn 1\n",
    "\n",
    " A = set(A)\n",
    " B = set(range(1, m + 1))\n",
    " D = B - A\n",
    " if len(D) == 0:\n",
    "\treturn m + 1\n",
    " else:\n",
    "\treturn min(D)"
   ],
   "metadata": {
    "collapsed": false,
    "pycharm": {
     "name": "#%%\n"
    }
   }
  },
  {
   "cell_type": "code",
   "execution_count": 75,
   "outputs": [
    {
     "ename": "SyntaxError",
     "evalue": "invalid syntax. Maybe you meant '==' or ':=' instead of '='? (1712051683.py, line 12)",
     "output_type": "error",
     "traceback": [
      "\u001B[0;36m  Input \u001B[0;32mIn [75]\u001B[0;36m\u001B[0m\n\u001B[0;31m    if i = k or i = k+1:\u001B[0m\n\u001B[0m       ^\u001B[0m\n\u001B[0;31mSyntaxError\u001B[0m\u001B[0;31m:\u001B[0m invalid syntax. Maybe you meant '==' or ':=' instead of '='?\n"
     ]
    }
   ],
   "source": [
    "def sol_sorting_iter(A):\n",
    "\tA.sort\n",
    "\tprint(A)\n",
    "\n",
    "\ttry:\n",
    "\t\telem_1 = A.index(1)\n",
    "\texcept ValueError:\n",
    "\t\treturn 1\n",
    "\n",
    "\tk = 1\n",
    "\tfor i in A[elem_1:]:\n",
    "\t\tif i = k or i = k+1:\n",
    "\t\t\tk=i\n",
    "\n",
    "\t\telse:\n",
    "\t\t\treturn i\n",
    "\treturn k"
   ],
   "metadata": {
    "collapsed": false,
    "pycharm": {
     "name": "#%%\n"
    }
   }
  },
  {
   "cell_type": "code",
   "execution_count": 77,
   "outputs": [
    {
     "name": "stdout",
     "output_type": "stream",
     "text": [
      "[1, 2, 3]\n",
      "2\n",
      "[-1, -3]\n",
      "1\n",
      "[1, 3, 6, 4, 1, 2]\n",
      "3\n",
      "CPU times: user 887 µs, sys: 84 µs, total: 971 µs\n",
      "Wall time: 606 µs\n"
     ]
    }
   ],
   "source": [
    "%%time\n",
    "A = [1, 2, 3]\n",
    "B = [-1, -3]\n",
    "C = [1, 3, 6, 4, 1, 2]\n",
    "print(sol_sorting_iter(A))\n",
    "print(sol_sorting_iter(B))\n",
    "print(sol_sorting_iter(C))"
   ],
   "metadata": {
    "collapsed": false,
    "pycharm": {
     "name": "#%%\n"
    }
   }
  },
  {
   "cell_type": "code",
   "execution_count": 70,
   "outputs": [
    {
     "name": "stdout",
     "output_type": "stream",
     "text": [
      "4\n",
      "1\n",
      "5\n",
      "CPU times: user 259 µs, sys: 68 µs, total: 327 µs\n",
      "Wall time: 271 µs\n"
     ]
    }
   ],
   "source": [
    "%%time\n",
    "A = [1, 2, 3]\n",
    "B = [-1, -3]\n",
    "C = [1, 3, 6, 4, 1, 2]\n",
    "print(solution_sa(A))\n",
    "print(solution_sa(B))\n",
    "print(solution_sa(C))"
   ],
   "metadata": {
    "collapsed": false,
    "pycharm": {
     "name": "#%%\n"
    }
   }
  },
  {
   "cell_type": "code",
   "execution_count": 74,
   "outputs": [
    {
     "name": "stdout",
     "output_type": "stream",
     "text": [
      "[1, 2, 3]\n",
      "2\n",
      "[-1, -3]\n",
      "1\n",
      "[1, 3, 6, 4, 1, 2]\n",
      "3\n",
      "CPU times: user 493 µs, sys: 0 ns, total: 493 µs\n",
      "Wall time: 478 µs\n"
     ]
    }
   ],
   "source": [
    "%%time\n",
    "A = [1, 2, 3]\n",
    "B = [-1, -3]\n",
    "C = [1, 3, 6, 4, 1, 2]\n",
    "print(sol_sorting_iter(A))\n",
    "print(sol_sorting_iter(B))\n",
    "print(sol_sorting_iter(C))"
   ],
   "metadata": {
    "collapsed": false,
    "pycharm": {
     "name": "#%%\n"
    }
   }
  },
  {
   "cell_type": "code",
   "execution_count": 78,
   "outputs": [],
   "source": [
    "a = 'string'"
   ],
   "metadata": {
    "collapsed": false,
    "pycharm": {
     "name": "#%%\n"
    }
   }
  },
  {
   "cell_type": "code",
   "execution_count": 79,
   "outputs": [
    {
     "name": "stdout",
     "output_type": "stream",
     "text": [
      "s\n",
      "t\n",
      "r\n",
      "i\n",
      "n\n",
      "g\n"
     ]
    }
   ],
   "source": [
    "for a_ in a:\n",
    "\tprint(a_)"
   ],
   "metadata": {
    "collapsed": false,
    "pycharm": {
     "name": "#%%\n"
    }
   }
  },
  {
   "cell_type": "code",
   "execution_count": 7,
   "outputs": [],
   "source": [
    "l= 4"
   ],
   "metadata": {
    "collapsed": false,
    "pycharm": {
     "name": "#%%\n"
    }
   }
  },
  {
   "cell_type": "code",
   "execution_count": 8,
   "outputs": [],
   "source": [
    "str_n = '12345'"
   ],
   "metadata": {
    "collapsed": false,
    "pycharm": {
     "name": "#%%\n"
    }
   }
  },
  {
   "cell_type": "code",
   "execution_count": 9,
   "outputs": [
    {
     "data": {
      "text/plain": "'1234'"
     },
     "execution_count": 9,
     "metadata": {},
     "output_type": "execute_result"
    }
   ],
   "source": [
    "str_n[:l] + str_n[l+1:]"
   ],
   "metadata": {
    "collapsed": false,
    "pycharm": {
     "name": "#%%\n"
    }
   }
  },
  {
   "cell_type": "code",
   "execution_count": 10,
   "outputs": [
    {
     "data": {
      "text/plain": "''"
     },
     "execution_count": 10,
     "metadata": {},
     "output_type": "execute_result"
    }
   ],
   "source": [
    "str_n[l+1:]"
   ],
   "metadata": {
    "collapsed": false,
    "pycharm": {
     "name": "#%%\n"
    }
   }
  },
  {
   "cell_type": "code",
   "execution_count": 12,
   "outputs": [
    {
     "data": {
      "text/plain": "''"
     },
     "execution_count": 12,
     "metadata": {},
     "output_type": "execute_result"
    }
   ],
   "source": [
    "str_n[110:200]"
   ],
   "metadata": {
    "collapsed": false,
    "pycharm": {
     "name": "#%%\n"
    }
   }
  },
  {
   "cell_type": "code",
   "execution_count": null,
   "outputs": [],
   "source": [],
   "metadata": {
    "collapsed": false,
    "pycharm": {
     "name": "#%%\n"
    }
   }
  }
 ],
 "metadata": {
  "kernelspec": {
   "display_name": "Python 3",
   "language": "python",
   "name": "python3"
  },
  "language_info": {
   "codemirror_mode": {
    "name": "ipython",
    "version": 2
   },
   "file_extension": ".py",
   "mimetype": "text/x-python",
   "name": "python",
   "nbconvert_exporter": "python",
   "pygments_lexer": "ipython2",
   "version": "2.7.6"
  }
 },
 "nbformat": 4,
 "nbformat_minor": 0
}